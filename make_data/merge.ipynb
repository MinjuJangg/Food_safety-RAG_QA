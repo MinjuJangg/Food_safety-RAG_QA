{
 "cells": [
  {
   "cell_type": "code",
   "execution_count": 9,
   "metadata": {},
   "outputs": [
    {
     "name": "stdout",
     "output_type": "stream",
     "text": [
      "총 1000개 항목을 merged.json 파일에 저장 완료 ✅\n"
     ]
    }
   ],
   "source": [
    "import os\n",
    "import json\n",
    "from pathlib import Path\n",
    "\n",
    "# json 디렉토리 경로\n",
    "json_dir = Path(\"/home/food/people/minju/make_data/final_data\")\n",
    "\n",
    "# 결과 저장할 리스트\n",
    "merged_data = []\n",
    "\n",
    "# 디렉토리 내 모든 .json 파일 읽기\n",
    "for file in sorted(json_dir.glob(\"*.json\")):\n",
    "    with open(file, \"r\", encoding=\"utf-8-sig\") as f:\n",
    "        try:\n",
    "            data = json.load(f)\n",
    "            # JSON이 리스트일 경우\n",
    "            if isinstance(data, list):\n",
    "                merged_data.extend(data)\n",
    "            # JSON이 객체일 경우\n",
    "            elif isinstance(data, dict):\n",
    "                merged_data.append(data)\n",
    "        except Exception as e:\n",
    "            print(f\"⚠️ {file.name} 읽는 중 오류: {e}\")\n",
    "\n",
    "# -----------------------------\n",
    "# ID 자동 재정렬\n",
    "# -----------------------------\n",
    "for new_id, item in enumerate(merged_data, start=1):\n",
    "    item[\"id\"] = new_id\n",
    "\n",
    "# 합친 결과 저장\n",
    "out_path = \"merged.json\"\n",
    "with open(out_path, \"w\", encoding=\"utf-8\") as f:\n",
    "    json.dump(merged_data, f, ensure_ascii=False, indent=2)\n",
    "\n",
    "print(f\"총 {len(merged_data)}개 항목을 {out_path} 파일에 저장 완료 ✅\")\n"
   ]
  },
  {
   "cell_type": "code",
   "execution_count": 7,
   "metadata": {},
   "outputs": [
    {
     "name": "stdout",
     "output_type": "stream",
     "text": [
      "[INFO] BM25 파일 수: 11\n",
      "[INFO] LaBSE 파일 수: 11\n",
      "[INFO] /home/food/people/minju/embedding/bm25/bm25_2014.pkl → 15693개 추가\n",
      "[INFO] /home/food/people/minju/embedding/bm25/bm25_2015.pkl → 16245개 추가\n",
      "[INFO] /home/food/people/minju/embedding/bm25/bm25_2016.pkl → 17321개 추가\n",
      "[INFO] /home/food/people/minju/embedding/bm25/bm25_2017.pkl → 18711개 추가\n",
      "[INFO] /home/food/people/minju/embedding/bm25/bm25_2018.pkl → 18950개 추가\n",
      "[INFO] /home/food/people/minju/embedding/bm25/bm25_2019.pkl → 19457개 추가\n",
      "[INFO] /home/food/people/minju/embedding/bm25/bm25_2020.pkl → 19607개 추가\n",
      "[INFO] /home/food/people/minju/embedding/bm25/bm25_2021.pkl → 23135개 추가\n",
      "[INFO] /home/food/people/minju/embedding/bm25/bm25_2022.pkl → 22233개 추가\n",
      "[INFO] /home/food/people/minju/embedding/bm25/bm25_2023.pkl → 20775개 추가\n",
      "[INFO] /home/food/people/minju/embedding/bm25/bm25_2024.pkl → 23590개 추가\n",
      "[INFO] ✅ BM25 전체 통합 완료 → 215717개 문서\n",
      "[INFO] /home/food/people/subin/data/embeddings/LaBSE/embeddings_2014.pkl → (15693, 768) 추가\n",
      "[INFO] /home/food/people/subin/data/embeddings/LaBSE/embeddings_2015.pkl → (16245, 768) 추가\n",
      "[INFO] /home/food/people/subin/data/embeddings/LaBSE/embeddings_2016.pkl → (17321, 768) 추가\n",
      "[INFO] /home/food/people/subin/data/embeddings/LaBSE/embeddings_2017.pkl → (18711, 768) 추가\n",
      "[INFO] /home/food/people/subin/data/embeddings/LaBSE/embeddings_2018.pkl → (18950, 768) 추가\n",
      "[INFO] /home/food/people/subin/data/embeddings/LaBSE/embeddings_2019.pkl → (19457, 768) 추가\n",
      "[INFO] /home/food/people/subin/data/embeddings/LaBSE/embeddings_2020.pkl → (19607, 768) 추가\n",
      "[INFO] /home/food/people/subin/data/embeddings/LaBSE/embeddings_2021.pkl → (23135, 768) 추가\n",
      "[INFO] /home/food/people/subin/data/embeddings/LaBSE/embeddings_2022.pkl → (22233, 768) 추가\n",
      "[INFO] /home/food/people/subin/data/embeddings/LaBSE/embeddings_2023.pkl → (20775, 768) 추가\n",
      "[INFO] /home/food/people/subin/data/embeddings/LaBSE/embeddings_2024.pkl → (23590, 768) 추가\n",
      "[INFO] ✅ LaBSE 전체 통합 완료 → (215717, 768)\n",
      "[INFO] ✅ BM25 + LaBSE 통합 저장 완료\n"
     ]
    }
   ],
   "source": [
    "import os\n",
    "import pickle\n",
    "import numpy as np\n",
    "from langchain_teddynote.retrievers import KiwiBM25Retriever\n",
    "\n",
    "# ==============================\n",
    "# 1) 경로 설정\n",
    "# ==============================\n",
    "bm25_dir = \"/home/food/people/minju/embedding/bm25\"\n",
    "labse_dir = \"/home/food/people/subin/data/embeddings/LaBSE\"\n",
    "\n",
    "bm25_paths = sorted([os.path.join(bm25_dir, f) for f in os.listdir(bm25_dir) if f.endswith(\".pkl\")])\n",
    "labse_paths = sorted([os.path.join(labse_dir, f) for f in os.listdir(labse_dir) if f.endswith(\".pkl\")])\n",
    "\n",
    "print(f\"[INFO] BM25 파일 수: {len(bm25_paths)}\")\n",
    "print(f\"[INFO] LaBSE 파일 수: {len(labse_paths)}\")\n",
    "\n",
    "# ==============================\n",
    "# 2) BM25 retriever 통합\n",
    "# ==============================\n",
    "all_docs = []\n",
    "for path in bm25_paths:\n",
    "    with open(path, \"rb\") as f:\n",
    "        bm25_tmp = pickle.load(f)\n",
    "    all_docs.extend(bm25_tmp.docs)  # ✅ docs 사용\n",
    "    print(f\"[INFO] {path} → {len(bm25_tmp.docs)}개 추가\")\n",
    "\n",
    "merged_bm25 = KiwiBM25Retriever.from_documents(all_docs)\n",
    "merged_bm25.k = 10\n",
    "\n",
    "with open(os.path.join(bm25_dir, \"bm25_all.pkl\"), \"wb\") as f:\n",
    "    pickle.dump(merged_bm25, f)\n",
    "\n",
    "print(f\"[INFO] ✅ BM25 전체 통합 완료 → {len(all_docs)}개 문서\")\n",
    "\n",
    "# ==============================\n",
    "# 3) LaBSE 임베딩 통합\n",
    "# ==============================\n",
    "all_embeddings = []\n",
    "for path in labse_paths:\n",
    "    with open(path, \"rb\") as f:\n",
    "        emb = pickle.load(f)\n",
    "    all_embeddings.append(emb)\n",
    "    print(f\"[INFO] {path} → {emb.shape} 추가\")\n",
    "\n",
    "# 전체 임베딩 합치기\n",
    "merged_embeddings = np.vstack(all_embeddings)\n",
    "print(f\"[INFO] ✅ LaBSE 전체 통합 완료 → {merged_embeddings.shape}\")\n",
    "\n",
    "# 새 파일로 저장\n",
    "with open(os.path.join(labse_dir, \"embeddings_all.pkl\"), \"wb\") as f:\n",
    "    pickle.dump(merged_embeddings, f)\n",
    "\n",
    "print(\"[INFO] ✅ BM25 + LaBSE 통합 저장 완료\")\n"
   ]
  },
  {
   "cell_type": "code",
   "execution_count": 13,
   "metadata": {},
   "outputs": [
    {
     "name": "stdout",
     "output_type": "stream",
     "text": [
      "[INFO] /home/food/people/minju/embedding/labse2/embeddings_2014.pkl → (15693, 768) 추가\n",
      "[INFO] /home/food/people/minju/embedding/labse2/embeddings_2015.pkl → (16245, 768) 추가\n",
      "[INFO] /home/food/people/minju/embedding/labse2/embeddings_2016.pkl → (17321, 768) 추가\n",
      "[INFO] /home/food/people/minju/embedding/labse2/embeddings_2017.pkl → (18711, 768) 추가\n",
      "[INFO] /home/food/people/minju/embedding/labse2/embeddings_2018.pkl → (18950, 768) 추가\n",
      "[INFO] /home/food/people/minju/embedding/labse2/embeddings_2019.pkl → (19457, 768) 추가\n",
      "[INFO] /home/food/people/minju/embedding/labse2/embeddings_2020.pkl → (19607, 768) 추가\n",
      "[INFO] /home/food/people/minju/embedding/labse2/embeddings_2021.pkl → (23135, 768) 추가\n",
      "[INFO] /home/food/people/minju/embedding/labse2/embeddings_2022.pkl → (22233, 768) 추가\n",
      "[INFO] /home/food/people/minju/embedding/labse2/embeddings_2023.pkl → (20775, 768) 추가\n",
      "[INFO] /home/food/people/minju/embedding/labse2/embeddings_2024.pkl → (23590, 768) 추가\n",
      "\n",
      "✅ 전체 임베딩 통합 저장 완료 → /home/food/people/minju/embedding/labse2/embeddings_all.pkl\n",
      "[INFO] 전체 shape: (215717, 768)\n"
     ]
    }
   ],
   "source": [
    "import numpy as np\n",
    "import pickle\n",
    "import os\n",
    "\n",
    "labse_dir = '/home/food/people/minju/embedding/labse2'\n",
    "\n",
    "# 연도 기준으로 정렬된 경로 가져오기\n",
    "labse_paths = sorted(\n",
    "    [os.path.join(labse_dir, f) for f in os.listdir(labse_dir) if f.endswith(\".pkl\")],\n",
    "    key=lambda x: int(os.path.basename(x).split(\"_\")[1].split(\".\")[0])\n",
    ")\n",
    "\n",
    "all_embeddings = []\n",
    "\n",
    "for path in labse_paths:\n",
    "    with open(path, \"rb\") as f:\n",
    "        emb = pickle.load(f)\n",
    "    print(f\"[INFO] {path} → {emb.shape} 추가\")\n",
    "    all_embeddings.append(emb)\n",
    "\n",
    "# 통합 임베딩 생성\n",
    "merged_embeddings = np.vstack(all_embeddings)\n",
    "\n",
    "merged_path = os.path.join(labse_dir, \"embeddings_all.pkl\")\n",
    "with open(merged_path, \"wb\") as f:\n",
    "    pickle.dump(merged_embeddings, f)\n",
    "\n",
    "print(f\"\\n✅ 전체 임베딩 통합 저장 완료 → {merged_path}\")\n",
    "print(f\"[INFO] 전체 shape: {merged_embeddings.shape}\")\n"
   ]
  },
  {
   "cell_type": "code",
   "execution_count": 29,
   "metadata": {},
   "outputs": [],
   "source": [
    "labse_dir = '/home/food/people/minju/embedding/labse2'\n",
    "\n",
    "merged_path = os.path.join(labse_dir, \"embeddings_all.pkl\")\n",
    "with open(merged_path, \"rb\") as f:\n",
    "    merged_embeddings = pickle.load(f)\n",
    "\n",
    "faiss.normalize_L2(merged_embeddings)\n",
    "index = faiss.IndexFlatIP(merged_embeddings.shape[1])\n",
    "index.add(merged_embeddings)\n",
    "faiss.write_index(index, os.path.join(labse_dir, \"faiss_index_all.index\"))"
   ]
  },
  {
   "cell_type": "code",
   "execution_count": 32,
   "metadata": {},
   "outputs": [
    {
     "name": "stdout",
     "output_type": "stream",
     "text": [
      "Distances: [[1.         0.85433745 0.85085535 0.83823645 0.8341411 ]]\n",
      "Indices: [[ 2015 27816  2028 63629 21948]]\n"
     ]
    }
   ],
   "source": [
    "index = faiss.read_index(os.path.join(labse_dir, \"faiss_index_all.index\"))\n",
    "# 예시: 첫 번째 쿼리로 검색\n",
    "q = merged_embeddings[2015].reshape(1, -1)\n",
    "D, I = index.search(q, 5)\n",
    "\n",
    "print(\"Distances:\", D)\n",
    "print(\"Indices:\", I)\n"
   ]
  },
  {
   "cell_type": "code",
   "execution_count": 28,
   "metadata": {},
   "outputs": [
    {
     "ename": "NameError",
     "evalue": "name 'EMBED_MODEL' is not defined",
     "output_type": "error",
     "traceback": [
      "\u001b[0;31m---------------------------------------------------------------------------\u001b[0m",
      "\u001b[0;31mNameError\u001b[0m                                 Traceback (most recent call last)",
      "Cell \u001b[0;32mIn[28], line 1\u001b[0m\n\u001b[0;32m----> 1\u001b[0m q \u001b[38;5;241m=\u001b[39m \u001b[43mEMBED_MODEL\u001b[49m\u001b[38;5;241m.\u001b[39mencode([DATA[\u001b[38;5;241m0\u001b[39m]], convert_to_numpy\u001b[38;5;241m=\u001b[39m\u001b[38;5;28;01mTrue\u001b[39;00m, normalize_embeddings\u001b[38;5;241m=\u001b[39m\u001b[38;5;28;01mTrue\u001b[39;00m)\n\u001b[1;32m      2\u001b[0m D, I \u001b[38;5;241m=\u001b[39m index\u001b[38;5;241m.\u001b[39msearch(q, \u001b[38;5;241m5\u001b[39m)\n\u001b[1;32m      3\u001b[0m \u001b[38;5;28;01mfor\u001b[39;00m rank, idx \u001b[38;5;129;01min\u001b[39;00m \u001b[38;5;28menumerate\u001b[39m(I[\u001b[38;5;241m0\u001b[39m]):\n",
      "\u001b[0;31mNameError\u001b[0m: name 'EMBED_MODEL' is not defined"
     ]
    }
   ],
   "source": [
    "q = EMBED_MODEL.encode([DATA[0]], convert_to_numpy=True, normalize_embeddings=True)\n",
    "D, I = index.search(q, 5)\n",
    "for rank, idx in enumerate(I[0]):\n",
    "    print(f\"Top {rank+1}: {DATA[idx]}\")\n"
   ]
  },
  {
   "cell_type": "code",
   "execution_count": 17,
   "metadata": {},
   "outputs": [
    {
     "name": "stdout",
     "output_type": "stream",
     "text": [
      "False\n"
     ]
    }
   ],
   "source": [
    "import pickle\n",
    "import numpy as np\n",
    "\n",
    "# 병합된 임베딩 로드\n",
    "with open(\"/home/food/people/minju/embedding/labse2/embeddings_all.pkl\", \"rb\") as f:\n",
    "    merged_embeddings = pickle.load(f)\n",
    "\n",
    "# 예시로 2014 첫 번째 문서 임베딩 로드\n",
    "with open(\"/home/food/people/minju/embedding/labse2/embeddings_2024.pkl\", \"rb\") as f:\n",
    "    emb_2014 = pickle.load(f)\n",
    "\n",
    "# 2014 첫 번째 벡터 vs 병합 벡터 비교\n",
    "print(np.allclose(emb_2014[0], merged_embeddings[0]))  # True면 정상, False면 순서 꼬임\n"
   ]
  },
  {
   "cell_type": "code",
   "execution_count": 19,
   "metadata": {},
   "outputs": [
    {
     "name": "stdout",
     "output_type": "stream",
     "text": [
      "/home/food/people/minju/embedding/labse2/embeddings_2014.pkl (15693, 768)\n",
      "/home/food/people/minju/embedding/labse2/embeddings_2015.pkl (16245, 768)\n",
      "/home/food/people/minju/embedding/labse2/embeddings_2016.pkl (17321, 768)\n",
      "/home/food/people/minju/embedding/labse2/embeddings_2017.pkl (18711, 768)\n",
      "/home/food/people/minju/embedding/labse2/embeddings_2018.pkl (18950, 768)\n",
      "/home/food/people/minju/embedding/labse2/embeddings_2019.pkl (19457, 768)\n",
      "/home/food/people/minju/embedding/labse2/embeddings_2020.pkl (19607, 768)\n",
      "/home/food/people/minju/embedding/labse2/embeddings_2021.pkl (23135, 768)\n",
      "/home/food/people/minju/embedding/labse2/embeddings_2022.pkl (22233, 768)\n",
      "/home/food/people/minju/embedding/labse2/embeddings_2023.pkl (20775, 768)\n",
      "/home/food/people/minju/embedding/labse2/embeddings_2024.pkl (23590, 768)\n"
     ]
    }
   ],
   "source": [
    "import pickle\n",
    "\n",
    "labse_dir = \"/home/food/people/minju/embedding/labse2\"\n",
    "labse_paths = sorted(\n",
    "    [os.path.join(labse_dir, f) for f in os.listdir(labse_dir) if f.endswith(\".pkl\")],\n",
    "    key=lambda x: int(os.path.basename(x).split(\"_\")[1].split(\".\")[0])\n",
    ")\n",
    "\n",
    "for path in labse_paths:\n",
    "    with open(path, \"rb\") as f:\n",
    "        emb = pickle.load(f)\n",
    "    print(path, emb.shape)\n"
   ]
  },
  {
   "cell_type": "code",
   "execution_count": 22,
   "metadata": {},
   "outputs": [
    {
     "name": "stdout",
     "output_type": "stream",
     "text": [
      "2014 끝 shape: [-0.06868254  0.00044297 -0.01582774 -0.02633454 -0.02802047]\n",
      "2015 시작 shape: [-0.05458421  0.01762388  0.03520567 -0.0621579  -0.02756296]\n"
     ]
    }
   ],
   "source": [
    "import pickle\n",
    "\n",
    "with open(\"/home/food/people/minju/embedding/labse2/embeddings_all.pkl\", \"rb\") as f:\n",
    "    emb = pickle.load(f)\n",
    "\n",
    "# 2014 마지막 인덱스 ~ 2015 첫 번째 인덱스 비교\n",
    "end_2014 = 15693\n",
    "print(\"2014 끝 shape:\", emb[end_2014 - 1][:5])\n",
    "print(\"2015 시작 shape:\", emb[end_2014][:5])\n"
   ]
  },
  {
   "cell_type": "code",
   "execution_count": 23,
   "metadata": {},
   "outputs": [
    {
     "name": "stdout",
     "output_type": "stream",
     "text": [
      "[INFO] embeddings shape: (215717, 768)\n",
      "[INFO] FAISS index size: 215717\n",
      "✅ FAISS 인덱스 저장 완료!\n"
     ]
    }
   ],
   "source": [
    "import faiss\n",
    "import numpy as np\n",
    "import pickle\n",
    "\n",
    "# 1) 임베딩 로드\n",
    "with open(\"/home/food/people/minju/embedding/labse2/embeddings_all.pkl\", \"rb\") as f:\n",
    "    emb = pickle.load(f).astype(np.float32)\n",
    "\n",
    "print(\"[INFO] embeddings shape:\", emb.shape)  # (215717, 768)\n",
    "\n",
    "# 2) FAISS 인덱스 생성 (L2 거리 or Inner Product)\n",
    "d = emb.shape[1]\n",
    "index = faiss.IndexFlatIP(d)  # Inner Product, 코사인 유사도 원하면 normalize 필요\n",
    "\n",
    "# 3) 임베딩 추가\n",
    "index.add(emb)\n",
    "print(\"[INFO] FAISS index size:\", index.ntotal)  # 215717 나와야 정상\n",
    "\n",
    "# 4) 저장\n",
    "faiss.write_index(index, \"/home/food/people/minju/embedding/labse2/faiss_labse.index\")\n",
    "print(\"✅ FAISS 인덱스 저장 완료!\")\n"
   ]
  },
  {
   "cell_type": "code",
   "execution_count": 25,
   "metadata": {},
   "outputs": [
    {
     "name": "stdout",
     "output_type": "stream",
     "text": [
      "Query idx=15693\n",
      "Top-5 indices: [[ 15693  80029 161449  78890  24565]]\n",
      "Top-5 scores: [[1.         0.71319234 0.7081472  0.70359325 0.7004778 ]]\n",
      "✅ 매핑 정상\n"
     ]
    }
   ],
   "source": [
    "# 인덱스 로드\n",
    "index = faiss.read_index(\"/home/food/people/minju/embedding/labse2/faiss_labse.index\")\n",
    "\n",
    "# 특정 인덱스 검색\n",
    "query_idx = 15693  # 2015 첫 번째 벡터\n",
    "query_vec = emb[query_idx].reshape(1, -1)\n",
    "\n",
    "D, I = index.search(query_vec, k=5)\n",
    "print(f\"Query idx={query_idx}\")\n",
    "print(\"Top-5 indices:\", I)\n",
    "print(\"Top-5 scores:\", D)\n",
    "\n",
    "# 매핑 체크\n",
    "if query_idx in I[0]:\n",
    "    print(\"✅ 매핑 정상\")\n",
    "else:\n",
    "    print(\"❌ 매핑 깨짐\")\n"
   ]
  },
  {
   "cell_type": "code",
   "execution_count": 26,
   "metadata": {},
   "outputs": [
    {
     "name": "stdout",
     "output_type": "stream",
     "text": [
      "Query index: 16000\n",
      "Retrieved indices: [[16000  2771 30559  3895  7390]]\n",
      "Distances: [[0.99999994 0.8161235  0.8136665  0.81041515 0.80499923]]\n"
     ]
    }
   ],
   "source": [
    "query_idx = 16000  # 2015 초반 샘플\n",
    "D, I = index.search(embeddings[query_idx:query_idx+1], k=5)\n",
    "print(\"Query index:\", query_idx)\n",
    "print(\"Retrieved indices:\", I)\n",
    "print(\"Distances:\", D)\n"
   ]
  }
 ],
 "metadata": {
  "kernelspec": {
   "display_name": "minju",
   "language": "python",
   "name": "python3"
  },
  "language_info": {
   "codemirror_mode": {
    "name": "ipython",
    "version": 3
   },
   "file_extension": ".py",
   "mimetype": "text/x-python",
   "name": "python",
   "nbconvert_exporter": "python",
   "pygments_lexer": "ipython3",
   "version": "3.10.18"
  }
 },
 "nbformat": 4,
 "nbformat_minor": 2
}
