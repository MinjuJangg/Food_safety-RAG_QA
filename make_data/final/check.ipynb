{
 "cells": [
  {
   "cell_type": "code",
   "execution_count": 96,
   "metadata": {},
   "outputs": [],
   "source": [
    "import pandas as pd\n",
    "\n",
    "# 파일 경로\n",
    "csv_path = \"/home/food/people/minju/final/100/labase_result.csv\"\n",
    "\n",
    "# CSV 읽기\n",
    "df = pd.read_csv(csv_path, encoding=\"utf-8-sig\")   #\n"
   ]
  },
  {
   "cell_type": "code",
   "execution_count": 97,
   "metadata": {},
   "outputs": [
    {
     "data": {
      "text/plain": [
       "82"
      ]
     },
     "execution_count": 97,
     "metadata": {},
     "output_type": "execute_result"
    }
   ],
   "source": [
    "(df['target_found']==True).sum()"
   ]
  },
  {
   "cell_type": "code",
   "execution_count": 98,
   "metadata": {},
   "outputs": [
    {
     "data": {
      "text/plain": [
       "152.0"
      ]
     },
     "execution_count": 98,
     "metadata": {},
     "output_type": "execute_result"
    }
   ],
   "source": [
    "df['target_rank'].sum()"
   ]
  },
  {
   "cell_type": "code",
   "execution_count": 99,
   "metadata": {},
   "outputs": [
    {
     "data": {
      "text/plain": [
       "1.853658536585366"
      ]
     },
     "execution_count": 99,
     "metadata": {},
     "output_type": "execute_result"
    }
   ],
   "source": [
    "df['target_rank'].mean()"
   ]
  },
  {
   "cell_type": "code",
   "execution_count": 100,
   "metadata": {},
   "outputs": [
    {
     "name": "stdout",
     "output_type": "stream",
     "text": [
      "MRR: 0.7941347270615563\n"
     ]
    }
   ],
   "source": [
    "mrr = (1 / df['target_rank']).mean()\n",
    "print(\"MRR:\", mrr)"
   ]
  },
  {
   "cell_type": "code",
   "execution_count": 101,
   "metadata": {},
   "outputs": [
    {
     "name": "stdout",
     "output_type": "stream",
     "text": [
      "총 21개의 행에서 문서 차이 발생\n",
      "Row 0 → 차이 있는 문서: 문서5\n",
      "Row 1 → 차이 있는 문서: 문서8\n",
      "Row 2 → 차이 있는 문서: 문서4\n",
      "Row 3 → 차이 있는 문서: 문서2, 문서5, 문서8, 문서9, 문서10\n",
      "Row 4 → 차이 있는 문서: 문서1, 문서3, 문서5, 문서8, 문서9, 문서10\n",
      "Row 5 → 차이 있는 문서: 문서2, 문서5, 문서9\n",
      "Row 7 → 차이 있는 문서: 문서1, 문서3\n",
      "Row 11 → 차이 있는 문서: 문서1\n",
      "Row 12 → 차이 있는 문서: 문서1\n",
      "Row 13 → 차이 있는 문서: 문서1, 문서2\n",
      "Row 14 → 차이 있는 문서: 문서10\n",
      "Row 16 → 차이 있는 문서: 문서4, 문서5\n",
      "Row 19 → 차이 있는 문서: 문서1, 문서2, 문서3, 문서4, 문서6, 문서9, 문서10\n",
      "Row 20 → 차이 있는 문서: 문서2, 문서5, 문서6, 문서8, 문서9, 문서10\n",
      "Row 27 → 차이 있는 문서: 문서1\n",
      "Row 29 → 차이 있는 문서: 문서1, 문서5, 문서9, 문서10\n",
      "Row 31 → 차이 있는 문서: 문서3\n",
      "Row 32 → 차이 있는 문서: 문서3, 문서4\n",
      "Row 35 → 차이 있는 문서: 문서6\n",
      "Row 36 → 차이 있는 문서: 문서1\n",
      "Row 37 → 차이 있는 문서: 문서1\n"
     ]
    }
   ],
   "source": [
    "import pandas as pd\n",
    "\n",
    "# 파일 경로 설정\n",
    "qa_result_path = \"/home/food/people/minju/final/original_bm25.csv\"\n",
    "\n",
    "original_result_path = \"/home/food/people/minju2/bm25_results.csv\"\n",
    "\n",
    "# CSV 파일 불러오기\n",
    "df_qa = pd.read_csv(qa_result_path)\n",
    "df_orig = pd.read_csv(original_result_path)\n",
    "\n",
    "# 비교할 문서 열 이름\n",
    "doc_cols = [f\"문서{i}\" for i in range(1, 11)]\n",
    "\n",
    "# 결과 저장용 리스트\n",
    "diff_rows = []\n",
    "\n",
    "# 행별로 비교\n",
    "for idx in range(min(len(df_qa), len(df_orig))):\n",
    "    row_diff = {\"id\": idx, \"diff_cols\": []}\n",
    "    for col in doc_cols:\n",
    "        doc_qa = str(df_qa.loc[idx, col]).strip()\n",
    "        doc_orig = str(df_orig.loc[idx, col]).strip()\n",
    "        if doc_qa != doc_orig:\n",
    "            row_diff[\"diff_cols\"].append(col)\n",
    "    \n",
    "    if row_diff[\"diff_cols\"]:\n",
    "        diff_rows.append(row_diff)\n",
    "\n",
    "# 결과 출력\n",
    "print(f\"총 {len(diff_rows)}개의 행에서 문서 차이 발생\")\n",
    "for diff in diff_rows:\n",
    "    print(f\"Row {diff['id']} → 차이 있는 문서: {', '.join(diff['diff_cols'])}\")\n"
   ]
  },
  {
   "cell_type": "code",
   "execution_count": 102,
   "metadata": {},
   "outputs": [
    {
     "name": "stdout",
     "output_type": "stream",
     "text": [
      "총 4개의 행에서 문서 차이 발생\n",
      "Row 2 → 차이 있는 문서: 문서3 (0.02), 문서4 (0.01), 문서5 (0.18), 문서6 (0.03), 문서7 (0.04), 문서8 (0.01), 문서9 (0.01), 문서10 (0.00)\n",
      "Row 3 → 차이 있는 문서: 문서3 (0.10), 문서4 (0.06), 문서5 (0.05), 문서6 (0.04), 문서7 (0.12), 문서8 (0.05), 문서9 (0.07), 문서10 (0.00)\n",
      "Row 15 → 차이 있는 문서: 문서3 (0.09), 문서4 (0.11), 문서5 (0.22), 문서6 (0.01), 문서7 (0.01), 문서8 (0.09), 문서9 (0.03), 문서10 (0.00)\n",
      "Row 25 → 차이 있는 문서: 문서7 (0.06), 문서8 (0.00), 문서9 (0.00)\n"
     ]
    }
   ],
   "source": [
    "import pandas as pd\n",
    "import re\n",
    "\n",
    "# 파일 경로 설정\n",
    "qa_result_path = \"/home/food/people/minju/final/retriever_only_result.csv\"\n",
    "original_result_path = \"/home/food/people/minju/final/original_hybrid_real.csv\"\n",
    "\n",
    "# CSV 파일 불러오기\n",
    "df_qa = pd.read_csv(qa_result_path)\n",
    "df_orig = pd.read_csv(original_result_path)\n",
    "\n",
    "# 비교할 문서 열 이름\n",
    "doc_cols = [f\"문서{i}\" for i in range(1, 11)]\n",
    "\n",
    "# 문자열 전처리 + 토큰 분할 함수\n",
    "def normalize(text):\n",
    "    text = str(text).lower()\n",
    "    text = re.sub(r\"[^\\w\\s]\", \"\", text)  # 특수문자 제거\n",
    "    text = re.sub(r\"\\s+\", \" \", text)     # 여러 공백 -> 하나\n",
    "    return set(text.strip().split())     # 단어 집합으로 반환\n",
    "\n",
    "# 유사도 함수 (Jaccard index 기반)\n",
    "def jaccard_sim(set1, set2):\n",
    "    if not set1 or not set2:\n",
    "        return 0\n",
    "    return len(set1 & set2) / len(set1 | set2)\n",
    "\n",
    "# 결과 저장용 리스트\n",
    "diff_rows = []\n",
    "SIM_THRESHOLD = 0.85  # 유사도 임계값 (1에 가까울수록 엄격함)\n",
    "\n",
    "# 행별로 비교\n",
    "for idx in range(min(len(df_qa), len(df_orig))):\n",
    "    row_diff = {\"id\": idx, \"diff_cols\": []}\n",
    "    for col in doc_cols:\n",
    "        set_qa = normalize(df_qa.loc[idx, col])\n",
    "        set_orig = normalize(df_orig.loc[idx, col])\n",
    "        sim = jaccard_sim(set_qa, set_orig)\n",
    "\n",
    "        if sim < SIM_THRESHOLD:\n",
    "            row_diff[\"diff_cols\"].append(f\"{col} ({sim:.2f})\")\n",
    "\n",
    "    if row_diff[\"diff_cols\"]:\n",
    "        diff_rows.append(row_diff)\n",
    "\n",
    "# 결과 출력\n",
    "print(f\"총 {len(diff_rows)}개의 행에서 문서 차이 발생\")\n",
    "for diff in diff_rows:\n",
    "    print(f\"Row {diff['id']} → 차이 있는 문서: {', '.join(diff['diff_cols'])}\")\n"
   ]
  }
 ],
 "metadata": {
  "kernelspec": {
   "display_name": "minju",
   "language": "python",
   "name": "python3"
  },
  "language_info": {
   "codemirror_mode": {
    "name": "ipython",
    "version": 3
   },
   "file_extension": ".py",
   "mimetype": "text/x-python",
   "name": "python",
   "nbconvert_exporter": "python",
   "pygments_lexer": "ipython3",
   "version": "3.10.18"
  }
 },
 "nbformat": 4,
 "nbformat_minor": 2
}
